{
 "cells": [
  {
   "cell_type": "code",
   "execution_count": 1,
   "id": "3a48bd4d",
   "metadata": {},
   "outputs": [],
   "source": [
    "import numpy as np\n",
    "import pandas as pd\n",
    "import scipy\n",
    "\n",
    "def allocate_portfolio(asset_prices):\n",
    "    \n",
    "    # This simple strategy equally weights all assets every period\n",
    "    # (called a 1/n strategy).\n",
    "    \n",
    "    n_assets = len(asset_prices)\n",
    "    weights = np.repeat(1 / n_assets, n_assets)\n",
    "    return weights"
   ]
  },
  {
   "cell_type": "code",
   "execution_count": null,
   "id": "9d72d8ff",
   "metadata": {},
   "outputs": [],
   "source": []
  }
 ],
 "metadata": {
  "kernelspec": {
   "display_name": "Python 3 (ipykernel)",
   "language": "python",
   "name": "python3"
  },
  "language_info": {
   "codemirror_mode": {
    "name": "ipython",
    "version": 3
   },
   "file_extension": ".py",
   "mimetype": "text/x-python",
   "name": "python",
   "nbconvert_exporter": "python",
   "pygments_lexer": "ipython3",
   "version": "3.9.7"
  }
 },
 "nbformat": 4,
 "nbformat_minor": 5
}
